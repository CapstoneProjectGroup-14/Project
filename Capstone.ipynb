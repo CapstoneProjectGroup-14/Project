{
 "cells": [
  {
   "cell_type": "code",
   "execution_count": 2,
   "metadata": {},
   "outputs": [],
   "source": [
    "import numpy as np\n",
    "import pandas as pd\n",
    "import matplotlib.pyplot as plt\n"
   ]
  },
  {
   "cell_type": "code",
   "execution_count": 3,
   "metadata": {},
   "outputs": [
    {
     "data": {
      "text/html": [
       "<div>\n",
       "<style scoped>\n",
       "    .dataframe tbody tr th:only-of-type {\n",
       "        vertical-align: middle;\n",
       "    }\n",
       "\n",
       "    .dataframe tbody tr th {\n",
       "        vertical-align: top;\n",
       "    }\n",
       "\n",
       "    .dataframe thead th {\n",
       "        text-align: right;\n",
       "    }\n",
       "</style>\n",
       "<table border=\"1\" class=\"dataframe\">\n",
       "  <thead>\n",
       "    <tr style=\"text-align: right;\">\n",
       "      <th></th>\n",
       "      <th>name</th>\n",
       "      <th>brand</th>\n",
       "      <th>categories</th>\n",
       "      <th>primaryCategories</th>\n",
       "      <th>keys</th>\n",
       "      <th>manufacturer</th>\n",
       "      <th>date</th>\n",
       "      <th>purchase</th>\n",
       "      <th>Genuine or non Genuine</th>\n",
       "      <th>rating</th>\n",
       "      <th>sourceURLs_review</th>\n",
       "      <th>reviews</th>\n",
       "      <th>reviews_title</th>\n",
       "      <th>username</th>\n",
       "      <th>sourceURLs</th>\n",
       "    </tr>\n",
       "  </thead>\n",
       "  <tbody>\n",
       "    <tr>\n",
       "      <th>0</th>\n",
       "      <td>AmazonBasics AAA Performance Alkaline Batterie...</td>\n",
       "      <td>Amazonbasics</td>\n",
       "      <td>AA,AAA,Health,Electronics,Health &amp; Household,C...</td>\n",
       "      <td>Health &amp; Beauty</td>\n",
       "      <td>amazonbasics/hl002619,amazonbasicsaaaperforman...</td>\n",
       "      <td>AmazonBasics</td>\n",
       "      <td>2017-03-02T00:00:00.000Z</td>\n",
       "      <td>True</td>\n",
       "      <td>1.0</td>\n",
       "      <td>3</td>\n",
       "      <td>https://www.amazon.com/product-reviews/B00QWO9...</td>\n",
       "      <td>I order 3 of them and one of the item is bad q...</td>\n",
       "      <td>... 3 of them and one of the item is bad quali...</td>\n",
       "      <td>Byger yang</td>\n",
       "      <td>https://www.barcodable.com/upc/841710106442,ht...</td>\n",
       "    </tr>\n",
       "    <tr>\n",
       "      <th>1</th>\n",
       "      <td>AmazonBasics AAA Performance Alkaline Batterie...</td>\n",
       "      <td>Amazonbasics</td>\n",
       "      <td>AA,AAA,Health,Electronics,Health &amp; Household,C...</td>\n",
       "      <td>Health &amp; Beauty</td>\n",
       "      <td>amazonbasics/hl002619,amazonbasicsaaaperforman...</td>\n",
       "      <td>AmazonBasics</td>\n",
       "      <td>2016-08-31T00:00:00.000Z</td>\n",
       "      <td>True</td>\n",
       "      <td>1.0</td>\n",
       "      <td>4</td>\n",
       "      <td>https://www.amazon.com/product-reviews/B00QWO9...</td>\n",
       "      <td>Bulk is always the less expensive way to go fo...</td>\n",
       "      <td>... always the less expensive way to go for pr...</td>\n",
       "      <td>ByMG</td>\n",
       "      <td>https://www.barcodable.com/upc/841710106442,ht...</td>\n",
       "    </tr>\n",
       "    <tr>\n",
       "      <th>2</th>\n",
       "      <td>AmazonBasics AAA Performance Alkaline Batterie...</td>\n",
       "      <td>Amazonbasics</td>\n",
       "      <td>AA,AAA,Health,Electronics,Health &amp; Household,C...</td>\n",
       "      <td>Health &amp; Beauty</td>\n",
       "      <td>amazonbasics/hl002619,amazonbasicsaaaperforman...</td>\n",
       "      <td>AmazonBasics</td>\n",
       "      <td>2016-12-06T00:00:00.000Z</td>\n",
       "      <td>True</td>\n",
       "      <td>1.0</td>\n",
       "      <td>5</td>\n",
       "      <td>https://www.amazon.com/product-reviews/B00QWO9...</td>\n",
       "      <td>Well they are not Duracell but for the price i...</td>\n",
       "      <td>... are not Duracell but for the price i am ha...</td>\n",
       "      <td>BySharon Lambert</td>\n",
       "      <td>https://www.barcodable.com/upc/841710106442,ht...</td>\n",
       "    </tr>\n",
       "    <tr>\n",
       "      <th>3</th>\n",
       "      <td>AmazonBasics AAA Performance Alkaline Batterie...</td>\n",
       "      <td>Amazonbasics</td>\n",
       "      <td>AA,AAA,Health,Electronics,Health &amp; Household,C...</td>\n",
       "      <td>Health &amp; Beauty</td>\n",
       "      <td>amazonbasics/hl002619,amazonbasicsaaaperforman...</td>\n",
       "      <td>AmazonBasics</td>\n",
       "      <td>2016-03-28T00:00:00.000Z</td>\n",
       "      <td>True</td>\n",
       "      <td>1.0</td>\n",
       "      <td>5</td>\n",
       "      <td>https://www.amazon.com/product-reviews/B00QWO9...</td>\n",
       "      <td>Seem to work as well as name brand batteries a...</td>\n",
       "      <td>... as well as name brand batteries at a much ...</td>\n",
       "      <td>Bymark sexson</td>\n",
       "      <td>https://www.barcodable.com/upc/841710106442,ht...</td>\n",
       "    </tr>\n",
       "    <tr>\n",
       "      <th>4</th>\n",
       "      <td>AmazonBasics AAA Performance Alkaline Batterie...</td>\n",
       "      <td>Amazonbasics</td>\n",
       "      <td>AA,AAA,Health,Electronics,Health &amp; Household,C...</td>\n",
       "      <td>Health &amp; Beauty</td>\n",
       "      <td>amazonbasics/hl002619,amazonbasicsaaaperforman...</td>\n",
       "      <td>AmazonBasics</td>\n",
       "      <td>2017-04-22T00:00:00.000Z</td>\n",
       "      <td>True</td>\n",
       "      <td>1.0</td>\n",
       "      <td>5</td>\n",
       "      <td>https://www.amazon.com/product-reviews/B00QWO9...</td>\n",
       "      <td>These batteries are very long lasting the pric...</td>\n",
       "      <td>... batteries are very long lasting the price ...</td>\n",
       "      <td>Bylinda</td>\n",
       "      <td>https://www.barcodable.com/upc/841710106442,ht...</td>\n",
       "    </tr>\n",
       "    <tr>\n",
       "      <th>...</th>\n",
       "      <td>...</td>\n",
       "      <td>...</td>\n",
       "      <td>...</td>\n",
       "      <td>...</td>\n",
       "      <td>...</td>\n",
       "      <td>...</td>\n",
       "      <td>...</td>\n",
       "      <td>...</td>\n",
       "      <td>...</td>\n",
       "      <td>...</td>\n",
       "      <td>...</td>\n",
       "      <td>...</td>\n",
       "      <td>...</td>\n",
       "      <td>...</td>\n",
       "      <td>...</td>\n",
       "    </tr>\n",
       "    <tr>\n",
       "      <th>33327</th>\n",
       "      <td>Fire Tablet with Alexa, 7\" Display, 16 GB, Mag...</td>\n",
       "      <td>Amazon</td>\n",
       "      <td>Tablets,Fire Tablets,Electronics,iPad &amp; Tablet...</td>\n",
       "      <td>Electronics</td>\n",
       "      <td>841667103150,0841667103150,firetabletwithalexa...</td>\n",
       "      <td>Amazon</td>\n",
       "      <td>2016-10-21T00:00:00.000Z</td>\n",
       "      <td>True</td>\n",
       "      <td>1.0</td>\n",
       "      <td>5</td>\n",
       "      <td>http://reviews.bestbuy.com/3545/5025900/review...</td>\n",
       "      <td>This is a great tablet for the price. Amazon i...</td>\n",
       "      <td>Good product</td>\n",
       "      <td>litle</td>\n",
       "      <td>https://www.barcodable.com/upc/841667103150,ht...</td>\n",
       "    </tr>\n",
       "    <tr>\n",
       "      <th>33328</th>\n",
       "      <td>Fire Tablet with Alexa, 7\" Display, 16 GB, Mag...</td>\n",
       "      <td>Amazon</td>\n",
       "      <td>Tablets,Fire Tablets,Electronics,iPad &amp; Tablet...</td>\n",
       "      <td>Electronics</td>\n",
       "      <td>841667103150,0841667103150,firetabletwithalexa...</td>\n",
       "      <td>Amazon</td>\n",
       "      <td>2016-08-10T00:00:00.000Z</td>\n",
       "      <td>True</td>\n",
       "      <td>1.0</td>\n",
       "      <td>5</td>\n",
       "      <td>http://reviews.bestbuy.com/3545/5025900/review...</td>\n",
       "      <td>This tablet is the perfect size and so easy to...</td>\n",
       "      <td>Great Tablet</td>\n",
       "      <td>gracie</td>\n",
       "      <td>https://www.barcodable.com/upc/841667103150,ht...</td>\n",
       "    </tr>\n",
       "    <tr>\n",
       "      <th>33329</th>\n",
       "      <td>Fire Tablet with Alexa, 7\" Display, 16 GB, Mag...</td>\n",
       "      <td>Amazon</td>\n",
       "      <td>Tablets,Fire Tablets,Electronics,iPad &amp; Tablet...</td>\n",
       "      <td>Electronics</td>\n",
       "      <td>841667103150,0841667103150,firetabletwithalexa...</td>\n",
       "      <td>Amazon</td>\n",
       "      <td>2016-06-05T00:00:00.000Z</td>\n",
       "      <td>False</td>\n",
       "      <td>0.0</td>\n",
       "      <td>4</td>\n",
       "      <td>http://reviews.bestbuy.com/3545/5025900/review...</td>\n",
       "      <td>Purchased this for my son. Has room to upgrade...</td>\n",
       "      <td>Great for kids or smaller needs</td>\n",
       "      <td>Hawk</td>\n",
       "      <td>https://www.barcodable.com/upc/841667103150,ht...</td>\n",
       "    </tr>\n",
       "    <tr>\n",
       "      <th>33330</th>\n",
       "      <td>Fire Tablet with Alexa, 7\" Display, 16 GB, Mag...</td>\n",
       "      <td>Amazon</td>\n",
       "      <td>Tablets,Fire Tablets,Electronics,iPad &amp; Tablet...</td>\n",
       "      <td>Electronics</td>\n",
       "      <td>841667103150,0841667103150,firetabletwithalexa...</td>\n",
       "      <td>Amazon</td>\n",
       "      <td>2016-09-02T00:00:00.000Z</td>\n",
       "      <td>True</td>\n",
       "      <td>1.0</td>\n",
       "      <td>5</td>\n",
       "      <td>http://reviews.bestbuy.com/3545/5025900/review...</td>\n",
       "      <td>I had some thoughts about getting this for a 5...</td>\n",
       "      <td>Very sturdy for a 5 year old</td>\n",
       "      <td>Mrbilly</td>\n",
       "      <td>https://www.barcodable.com/upc/841667103150,ht...</td>\n",
       "    </tr>\n",
       "    <tr>\n",
       "      <th>33331</th>\n",
       "      <td>Fire Tablet with Alexa, 7\" Display, 16 GB, Mag...</td>\n",
       "      <td>Amazon</td>\n",
       "      <td>Tablets,Fire Tablets,Electronics,iPad &amp; Tablet...</td>\n",
       "      <td>Electronics</td>\n",
       "      <td>841667103150,0841667103150,firetabletwithalexa...</td>\n",
       "      <td>Amazon</td>\n",
       "      <td>2016-05-19T00:00:00.000Z</td>\n",
       "      <td>False</td>\n",
       "      <td>0.0</td>\n",
       "      <td>5</td>\n",
       "      <td>http://reviews.bestbuy.com/3545/5025900/review...</td>\n",
       "      <td>this is a steal, have 8 gb model as well.This ...</td>\n",
       "      <td>great little tablet</td>\n",
       "      <td>tabman</td>\n",
       "      <td>https://www.barcodable.com/upc/841667103150,ht...</td>\n",
       "    </tr>\n",
       "  </tbody>\n",
       "</table>\n",
       "<p>33332 rows × 15 columns</p>\n",
       "</div>"
      ],
      "text/plain": [
       "                                                    name         brand  \\\n",
       "0      AmazonBasics AAA Performance Alkaline Batterie...  Amazonbasics   \n",
       "1      AmazonBasics AAA Performance Alkaline Batterie...  Amazonbasics   \n",
       "2      AmazonBasics AAA Performance Alkaline Batterie...  Amazonbasics   \n",
       "3      AmazonBasics AAA Performance Alkaline Batterie...  Amazonbasics   \n",
       "4      AmazonBasics AAA Performance Alkaline Batterie...  Amazonbasics   \n",
       "...                                                  ...           ...   \n",
       "33327  Fire Tablet with Alexa, 7\" Display, 16 GB, Mag...        Amazon   \n",
       "33328  Fire Tablet with Alexa, 7\" Display, 16 GB, Mag...        Amazon   \n",
       "33329  Fire Tablet with Alexa, 7\" Display, 16 GB, Mag...        Amazon   \n",
       "33330  Fire Tablet with Alexa, 7\" Display, 16 GB, Mag...        Amazon   \n",
       "33331  Fire Tablet with Alexa, 7\" Display, 16 GB, Mag...        Amazon   \n",
       "\n",
       "                                              categories primaryCategories  \\\n",
       "0      AA,AAA,Health,Electronics,Health & Household,C...   Health & Beauty   \n",
       "1      AA,AAA,Health,Electronics,Health & Household,C...   Health & Beauty   \n",
       "2      AA,AAA,Health,Electronics,Health & Household,C...   Health & Beauty   \n",
       "3      AA,AAA,Health,Electronics,Health & Household,C...   Health & Beauty   \n",
       "4      AA,AAA,Health,Electronics,Health & Household,C...   Health & Beauty   \n",
       "...                                                  ...               ...   \n",
       "33327  Tablets,Fire Tablets,Electronics,iPad & Tablet...       Electronics   \n",
       "33328  Tablets,Fire Tablets,Electronics,iPad & Tablet...       Electronics   \n",
       "33329  Tablets,Fire Tablets,Electronics,iPad & Tablet...       Electronics   \n",
       "33330  Tablets,Fire Tablets,Electronics,iPad & Tablet...       Electronics   \n",
       "33331  Tablets,Fire Tablets,Electronics,iPad & Tablet...       Electronics   \n",
       "\n",
       "                                                    keys  manufacturer  \\\n",
       "0      amazonbasics/hl002619,amazonbasicsaaaperforman...  AmazonBasics   \n",
       "1      amazonbasics/hl002619,amazonbasicsaaaperforman...  AmazonBasics   \n",
       "2      amazonbasics/hl002619,amazonbasicsaaaperforman...  AmazonBasics   \n",
       "3      amazonbasics/hl002619,amazonbasicsaaaperforman...  AmazonBasics   \n",
       "4      amazonbasics/hl002619,amazonbasicsaaaperforman...  AmazonBasics   \n",
       "...                                                  ...           ...   \n",
       "33327  841667103150,0841667103150,firetabletwithalexa...        Amazon   \n",
       "33328  841667103150,0841667103150,firetabletwithalexa...        Amazon   \n",
       "33329  841667103150,0841667103150,firetabletwithalexa...        Amazon   \n",
       "33330  841667103150,0841667103150,firetabletwithalexa...        Amazon   \n",
       "33331  841667103150,0841667103150,firetabletwithalexa...        Amazon   \n",
       "\n",
       "                           date  purchase  Genuine or non Genuine  rating  \\\n",
       "0      2017-03-02T00:00:00.000Z      True                     1.0       3   \n",
       "1      2016-08-31T00:00:00.000Z      True                     1.0       4   \n",
       "2      2016-12-06T00:00:00.000Z      True                     1.0       5   \n",
       "3      2016-03-28T00:00:00.000Z      True                     1.0       5   \n",
       "4      2017-04-22T00:00:00.000Z      True                     1.0       5   \n",
       "...                         ...       ...                     ...     ...   \n",
       "33327  2016-10-21T00:00:00.000Z      True                     1.0       5   \n",
       "33328  2016-08-10T00:00:00.000Z      True                     1.0       5   \n",
       "33329  2016-06-05T00:00:00.000Z     False                     0.0       4   \n",
       "33330  2016-09-02T00:00:00.000Z      True                     1.0       5   \n",
       "33331  2016-05-19T00:00:00.000Z     False                     0.0       5   \n",
       "\n",
       "                                       sourceURLs_review  \\\n",
       "0      https://www.amazon.com/product-reviews/B00QWO9...   \n",
       "1      https://www.amazon.com/product-reviews/B00QWO9...   \n",
       "2      https://www.amazon.com/product-reviews/B00QWO9...   \n",
       "3      https://www.amazon.com/product-reviews/B00QWO9...   \n",
       "4      https://www.amazon.com/product-reviews/B00QWO9...   \n",
       "...                                                  ...   \n",
       "33327  http://reviews.bestbuy.com/3545/5025900/review...   \n",
       "33328  http://reviews.bestbuy.com/3545/5025900/review...   \n",
       "33329  http://reviews.bestbuy.com/3545/5025900/review...   \n",
       "33330  http://reviews.bestbuy.com/3545/5025900/review...   \n",
       "33331  http://reviews.bestbuy.com/3545/5025900/review...   \n",
       "\n",
       "                                                 reviews  \\\n",
       "0      I order 3 of them and one of the item is bad q...   \n",
       "1      Bulk is always the less expensive way to go fo...   \n",
       "2      Well they are not Duracell but for the price i...   \n",
       "3      Seem to work as well as name brand batteries a...   \n",
       "4      These batteries are very long lasting the pric...   \n",
       "...                                                  ...   \n",
       "33327  This is a great tablet for the price. Amazon i...   \n",
       "33328  This tablet is the perfect size and so easy to...   \n",
       "33329  Purchased this for my son. Has room to upgrade...   \n",
       "33330  I had some thoughts about getting this for a 5...   \n",
       "33331  this is a steal, have 8 gb model as well.This ...   \n",
       "\n",
       "                                           reviews_title          username  \\\n",
       "0      ... 3 of them and one of the item is bad quali...        Byger yang   \n",
       "1      ... always the less expensive way to go for pr...              ByMG   \n",
       "2      ... are not Duracell but for the price i am ha...  BySharon Lambert   \n",
       "3      ... as well as name brand batteries at a much ...     Bymark sexson   \n",
       "4      ... batteries are very long lasting the price ...           Bylinda   \n",
       "...                                                  ...               ...   \n",
       "33327                                       Good product             litle   \n",
       "33328                                       Great Tablet            gracie   \n",
       "33329                    Great for kids or smaller needs              Hawk   \n",
       "33330                       Very sturdy for a 5 year old           Mrbilly   \n",
       "33331                                great little tablet            tabman   \n",
       "\n",
       "                                              sourceURLs  \n",
       "0      https://www.barcodable.com/upc/841710106442,ht...  \n",
       "1      https://www.barcodable.com/upc/841710106442,ht...  \n",
       "2      https://www.barcodable.com/upc/841710106442,ht...  \n",
       "3      https://www.barcodable.com/upc/841710106442,ht...  \n",
       "4      https://www.barcodable.com/upc/841710106442,ht...  \n",
       "...                                                  ...  \n",
       "33327  https://www.barcodable.com/upc/841667103150,ht...  \n",
       "33328  https://www.barcodable.com/upc/841667103150,ht...  \n",
       "33329  https://www.barcodable.com/upc/841667103150,ht...  \n",
       "33330  https://www.barcodable.com/upc/841667103150,ht...  \n",
       "33331  https://www.barcodable.com/upc/841667103150,ht...  \n",
       "\n",
       "[33332 rows x 15 columns]"
      ]
     },
     "execution_count": 3,
     "metadata": {},
     "output_type": "execute_result"
    }
   ],
   "source": [
    "rev = pd.read_csv(\"final_cap.csv\",encoding = 'unicode_escape', header=0)\n",
    "rev"
   ]
  },
  {
   "cell_type": "code",
   "execution_count": 4,
   "metadata": {},
   "outputs": [
    {
     "data": {
      "text/plain": [
       "Index(['name', 'brand', 'categories', 'primaryCategories', 'keys',\n",
       "       'manufacturer', 'date', 'purchase', 'Genuine or non Genuine', 'rating',\n",
       "       'sourceURLs_review', 'reviews', 'reviews_title', 'username',\n",
       "       'sourceURLs'],\n",
       "      dtype='object')"
      ]
     },
     "execution_count": 4,
     "metadata": {},
     "output_type": "execute_result"
    }
   ],
   "source": [
    "rev.columns"
   ]
  },
  {
   "cell_type": "code",
   "execution_count": 5,
   "metadata": {},
   "outputs": [
    {
     "data": {
      "text/plain": [
       "(33332, 15)"
      ]
     },
     "execution_count": 5,
     "metadata": {},
     "output_type": "execute_result"
    }
   ],
   "source": [
    "rev.shape"
   ]
  },
  {
   "cell_type": "code",
   "execution_count": 6,
   "metadata": {},
   "outputs": [
    {
     "name": "stdout",
     "output_type": "stream",
     "text": [
      "<class 'pandas.core.frame.DataFrame'>\n",
      "RangeIndex: 33332 entries, 0 to 33331\n",
      "Data columns (total 15 columns):\n",
      "name                      33332 non-null object\n",
      "brand                     33332 non-null object\n",
      "categories                33332 non-null object\n",
      "primaryCategories         33332 non-null object\n",
      "keys                      33332 non-null object\n",
      "manufacturer              33332 non-null object\n",
      "date                      33332 non-null object\n",
      "purchase                  33332 non-null bool\n",
      "Genuine or non Genuine    32949 non-null float64\n",
      "rating                    33332 non-null int64\n",
      "sourceURLs_review         33332 non-null object\n",
      "reviews                   33332 non-null object\n",
      "reviews_title             33319 non-null object\n",
      "username                  33332 non-null object\n",
      "sourceURLs                33332 non-null object\n",
      "dtypes: bool(1), float64(1), int64(1), object(12)\n",
      "memory usage: 3.6+ MB\n"
     ]
    }
   ],
   "source": [
    "rev.info()"
   ]
  },
  {
   "cell_type": "markdown",
   "metadata": {},
   "source": [
    "# Filtering the data to get purchased customer reviews"
   ]
  },
  {
   "cell_type": "code",
   "execution_count": 7,
   "metadata": {},
   "outputs": [
    {
     "data": {
      "text/html": [
       "<div>\n",
       "<style scoped>\n",
       "    .dataframe tbody tr th:only-of-type {\n",
       "        vertical-align: middle;\n",
       "    }\n",
       "\n",
       "    .dataframe tbody tr th {\n",
       "        vertical-align: top;\n",
       "    }\n",
       "\n",
       "    .dataframe thead th {\n",
       "        text-align: right;\n",
       "    }\n",
       "</style>\n",
       "<table border=\"1\" class=\"dataframe\">\n",
       "  <thead>\n",
       "    <tr style=\"text-align: right;\">\n",
       "      <th></th>\n",
       "      <th>name</th>\n",
       "      <th>brand</th>\n",
       "      <th>categories</th>\n",
       "      <th>primaryCategories</th>\n",
       "      <th>keys</th>\n",
       "      <th>manufacturer</th>\n",
       "      <th>date</th>\n",
       "      <th>purchase</th>\n",
       "      <th>Genuine or non Genuine</th>\n",
       "      <th>rating</th>\n",
       "      <th>sourceURLs_review</th>\n",
       "      <th>reviews</th>\n",
       "      <th>reviews_title</th>\n",
       "      <th>username</th>\n",
       "      <th>sourceURLs</th>\n",
       "    </tr>\n",
       "  </thead>\n",
       "  <tbody>\n",
       "    <tr>\n",
       "      <th>0</th>\n",
       "      <td>AmazonBasics AAA Performance Alkaline Batterie...</td>\n",
       "      <td>Amazonbasics</td>\n",
       "      <td>AA,AAA,Health,Electronics,Health &amp; Household,C...</td>\n",
       "      <td>Health &amp; Beauty</td>\n",
       "      <td>amazonbasics/hl002619,amazonbasicsaaaperforman...</td>\n",
       "      <td>AmazonBasics</td>\n",
       "      <td>2017-03-02T00:00:00.000Z</td>\n",
       "      <td>True</td>\n",
       "      <td>1.0</td>\n",
       "      <td>3</td>\n",
       "      <td>https://www.amazon.com/product-reviews/B00QWO9...</td>\n",
       "      <td>I order 3 of them and one of the item is bad q...</td>\n",
       "      <td>... 3 of them and one of the item is bad quali...</td>\n",
       "      <td>Byger yang</td>\n",
       "      <td>https://www.barcodable.com/upc/841710106442,ht...</td>\n",
       "    </tr>\n",
       "    <tr>\n",
       "      <th>1</th>\n",
       "      <td>AmazonBasics AAA Performance Alkaline Batterie...</td>\n",
       "      <td>Amazonbasics</td>\n",
       "      <td>AA,AAA,Health,Electronics,Health &amp; Household,C...</td>\n",
       "      <td>Health &amp; Beauty</td>\n",
       "      <td>amazonbasics/hl002619,amazonbasicsaaaperforman...</td>\n",
       "      <td>AmazonBasics</td>\n",
       "      <td>2016-08-31T00:00:00.000Z</td>\n",
       "      <td>True</td>\n",
       "      <td>1.0</td>\n",
       "      <td>4</td>\n",
       "      <td>https://www.amazon.com/product-reviews/B00QWO9...</td>\n",
       "      <td>Bulk is always the less expensive way to go fo...</td>\n",
       "      <td>... always the less expensive way to go for pr...</td>\n",
       "      <td>ByMG</td>\n",
       "      <td>https://www.barcodable.com/upc/841710106442,ht...</td>\n",
       "    </tr>\n",
       "    <tr>\n",
       "      <th>2</th>\n",
       "      <td>AmazonBasics AAA Performance Alkaline Batterie...</td>\n",
       "      <td>Amazonbasics</td>\n",
       "      <td>AA,AAA,Health,Electronics,Health &amp; Household,C...</td>\n",
       "      <td>Health &amp; Beauty</td>\n",
       "      <td>amazonbasics/hl002619,amazonbasicsaaaperforman...</td>\n",
       "      <td>AmazonBasics</td>\n",
       "      <td>2016-12-06T00:00:00.000Z</td>\n",
       "      <td>True</td>\n",
       "      <td>1.0</td>\n",
       "      <td>5</td>\n",
       "      <td>https://www.amazon.com/product-reviews/B00QWO9...</td>\n",
       "      <td>Well they are not Duracell but for the price i...</td>\n",
       "      <td>... are not Duracell but for the price i am ha...</td>\n",
       "      <td>BySharon Lambert</td>\n",
       "      <td>https://www.barcodable.com/upc/841710106442,ht...</td>\n",
       "    </tr>\n",
       "    <tr>\n",
       "      <th>3</th>\n",
       "      <td>AmazonBasics AAA Performance Alkaline Batterie...</td>\n",
       "      <td>Amazonbasics</td>\n",
       "      <td>AA,AAA,Health,Electronics,Health &amp; Household,C...</td>\n",
       "      <td>Health &amp; Beauty</td>\n",
       "      <td>amazonbasics/hl002619,amazonbasicsaaaperforman...</td>\n",
       "      <td>AmazonBasics</td>\n",
       "      <td>2016-03-28T00:00:00.000Z</td>\n",
       "      <td>True</td>\n",
       "      <td>1.0</td>\n",
       "      <td>5</td>\n",
       "      <td>https://www.amazon.com/product-reviews/B00QWO9...</td>\n",
       "      <td>Seem to work as well as name brand batteries a...</td>\n",
       "      <td>... as well as name brand batteries at a much ...</td>\n",
       "      <td>Bymark sexson</td>\n",
       "      <td>https://www.barcodable.com/upc/841710106442,ht...</td>\n",
       "    </tr>\n",
       "    <tr>\n",
       "      <th>4</th>\n",
       "      <td>AmazonBasics AAA Performance Alkaline Batterie...</td>\n",
       "      <td>Amazonbasics</td>\n",
       "      <td>AA,AAA,Health,Electronics,Health &amp; Household,C...</td>\n",
       "      <td>Health &amp; Beauty</td>\n",
       "      <td>amazonbasics/hl002619,amazonbasicsaaaperforman...</td>\n",
       "      <td>AmazonBasics</td>\n",
       "      <td>2017-04-22T00:00:00.000Z</td>\n",
       "      <td>True</td>\n",
       "      <td>1.0</td>\n",
       "      <td>5</td>\n",
       "      <td>https://www.amazon.com/product-reviews/B00QWO9...</td>\n",
       "      <td>These batteries are very long lasting the pric...</td>\n",
       "      <td>... batteries are very long lasting the price ...</td>\n",
       "      <td>Bylinda</td>\n",
       "      <td>https://www.barcodable.com/upc/841710106442,ht...</td>\n",
       "    </tr>\n",
       "  </tbody>\n",
       "</table>\n",
       "</div>"
      ],
      "text/plain": [
       "                                                name         brand  \\\n",
       "0  AmazonBasics AAA Performance Alkaline Batterie...  Amazonbasics   \n",
       "1  AmazonBasics AAA Performance Alkaline Batterie...  Amazonbasics   \n",
       "2  AmazonBasics AAA Performance Alkaline Batterie...  Amazonbasics   \n",
       "3  AmazonBasics AAA Performance Alkaline Batterie...  Amazonbasics   \n",
       "4  AmazonBasics AAA Performance Alkaline Batterie...  Amazonbasics   \n",
       "\n",
       "                                          categories primaryCategories  \\\n",
       "0  AA,AAA,Health,Electronics,Health & Household,C...   Health & Beauty   \n",
       "1  AA,AAA,Health,Electronics,Health & Household,C...   Health & Beauty   \n",
       "2  AA,AAA,Health,Electronics,Health & Household,C...   Health & Beauty   \n",
       "3  AA,AAA,Health,Electronics,Health & Household,C...   Health & Beauty   \n",
       "4  AA,AAA,Health,Electronics,Health & Household,C...   Health & Beauty   \n",
       "\n",
       "                                                keys  manufacturer  \\\n",
       "0  amazonbasics/hl002619,amazonbasicsaaaperforman...  AmazonBasics   \n",
       "1  amazonbasics/hl002619,amazonbasicsaaaperforman...  AmazonBasics   \n",
       "2  amazonbasics/hl002619,amazonbasicsaaaperforman...  AmazonBasics   \n",
       "3  amazonbasics/hl002619,amazonbasicsaaaperforman...  AmazonBasics   \n",
       "4  amazonbasics/hl002619,amazonbasicsaaaperforman...  AmazonBasics   \n",
       "\n",
       "                       date  purchase  Genuine or non Genuine  rating  \\\n",
       "0  2017-03-02T00:00:00.000Z      True                     1.0       3   \n",
       "1  2016-08-31T00:00:00.000Z      True                     1.0       4   \n",
       "2  2016-12-06T00:00:00.000Z      True                     1.0       5   \n",
       "3  2016-03-28T00:00:00.000Z      True                     1.0       5   \n",
       "4  2017-04-22T00:00:00.000Z      True                     1.0       5   \n",
       "\n",
       "                                   sourceURLs_review  \\\n",
       "0  https://www.amazon.com/product-reviews/B00QWO9...   \n",
       "1  https://www.amazon.com/product-reviews/B00QWO9...   \n",
       "2  https://www.amazon.com/product-reviews/B00QWO9...   \n",
       "3  https://www.amazon.com/product-reviews/B00QWO9...   \n",
       "4  https://www.amazon.com/product-reviews/B00QWO9...   \n",
       "\n",
       "                                             reviews  \\\n",
       "0  I order 3 of them and one of the item is bad q...   \n",
       "1  Bulk is always the less expensive way to go fo...   \n",
       "2  Well they are not Duracell but for the price i...   \n",
       "3  Seem to work as well as name brand batteries a...   \n",
       "4  These batteries are very long lasting the pric...   \n",
       "\n",
       "                                       reviews_title          username  \\\n",
       "0  ... 3 of them and one of the item is bad quali...        Byger yang   \n",
       "1  ... always the less expensive way to go for pr...              ByMG   \n",
       "2  ... are not Duracell but for the price i am ha...  BySharon Lambert   \n",
       "3  ... as well as name brand batteries at a much ...     Bymark sexson   \n",
       "4  ... batteries are very long lasting the price ...           Bylinda   \n",
       "\n",
       "                                          sourceURLs  \n",
       "0  https://www.barcodable.com/upc/841710106442,ht...  \n",
       "1  https://www.barcodable.com/upc/841710106442,ht...  \n",
       "2  https://www.barcodable.com/upc/841710106442,ht...  \n",
       "3  https://www.barcodable.com/upc/841710106442,ht...  \n",
       "4  https://www.barcodable.com/upc/841710106442,ht...  "
      ]
     },
     "execution_count": 7,
     "metadata": {},
     "output_type": "execute_result"
    }
   ],
   "source": [
    "data = rev[rev[\"purchase\"]]\n",
    "data.head()"
   ]
  },
  {
   "cell_type": "code",
   "execution_count": null,
   "metadata": {},
   "outputs": [],
   "source": []
  },
  {
   "cell_type": "code",
   "execution_count": 25,
   "metadata": {
    "scrolled": true
   },
   "outputs": [],
   "source": [
    "# basic imports\n",
    "import pandas as pd\n",
    "import numpy as np\n",
    "from math import sqrt\n",
    "import string\n",
    "import warnings\n",
    "warnings.filterwarnings('ignore')\n",
    "\n",
    "import seaborn as sns\n",
    "from plotly.offline import plot, iplot, init_notebook_mode\n",
    "import networkx as nx\n",
    "from wordcloud import WordCloud\n",
    "\n",
    "\n",
    "# importing libraries for NLP\n",
    "import nltk\n",
    "from nltk.corpus import stopwords, wordnet\n",
    "from sklearn.feature_extraction.text import TfidfVectorizer, CountVectorizer\n",
    "#from textblob import TextBlob, Word\n",
    "from nltk.stem.wordnet import WordNetLemmatizer\n",
    "from collections import Counter\n",
    "\n",
    "#importing libraries for modelling\n",
    "import sklearn.metrics as metrics\n",
    "from sklearn.metrics.pairwise import linear_kernel, cosine_similarity\n",
    "from sklearn.metrics import mean_squared_error\n",
    "from sklearn.naive_bayes import MultinomialNB\n",
    "from sklearn.model_selection import train_test_split, GridSearchCV\n",
    "from sklearn.metrics import confusion_matrix, classification_report\n",
    "from sklearn.neighbors import NearestNeighbors\n",
    "from scipy.spatial.distance import correlation, cosine\n",
    "\n",
    "#importing libraries for recommendations\n",
    "from surprise import SVD, SVDpp, Dataset, accuracy, Reader, BaselineOnly, KNNBaseline\n",
    "from surprise.model_selection import train_test_split, GridSearchCV, cross_validate\n",
    "\n",
    "#importing pickle library\n",
    "import pickle"
   ]
  },
  {
   "cell_type": "code",
   "execution_count": 27,
   "metadata": {},
   "outputs": [],
   "source": [
    "# features and target variables\n",
    "X = data['reviews']\n",
    "y = data['rating']"
   ]
  },
  {
   "cell_type": "code",
   "execution_count": 28,
   "metadata": {},
   "outputs": [],
   "source": [
    "# function to remove only punctuations from the review text\n",
    "def text_process(text):\n",
    "\n",
    "    '''\n",
    "    Takes in a string of text, then performs the following:\n",
    "    1. Removes all punctuation\n",
    "    2. Return the text as a list of words\n",
    "    '''\n",
    "\n",
    "    nopunc = [char for char in text if char not in string.punctuation]\n",
    "\n",
    "    nopunc = ''.join(nopunc)\n",
    "    \n",
    "    return [word for word in nopunc.split()]"
   ]
  },
  {
   "cell_type": "code",
   "execution_count": 29,
   "metadata": {},
   "outputs": [],
   "source": [
    "# creating a bag of words which consist of entire text without punctuations and fiting it\n",
    "bow_transformer = CountVectorizer().fit(X)"
   ]
  },
  {
   "cell_type": "code",
   "execution_count": 30,
   "metadata": {},
   "outputs": [
    {
     "data": {
      "text/plain": [
       "9443"
      ]
     },
     "execution_count": 30,
     "metadata": {},
     "output_type": "execute_result"
    }
   ],
   "source": [
    "# Looking for the count of features\n",
    "len(bow_transformer.vocabulary_)"
   ]
  },
  {
   "cell_type": "code",
   "execution_count": 31,
   "metadata": {},
   "outputs": [],
   "source": [
    "# Let us now transform our review text\n",
    "X = bow_transformer.transform(X)"
   ]
  },
  {
   "cell_type": "code",
   "execution_count": 32,
   "metadata": {},
   "outputs": [
    {
     "name": "stdout",
     "output_type": "stream",
     "text": [
      "Shape of Sparse Matrix:  (22469, 9443)\n",
      "Amount of Non-Zero occurrences:  457510\n",
      "Density: 0.2156288452528382\n"
     ]
    }
   ],
   "source": [
    "print('Shape of Sparse Matrix: ', X.shape)\n",
    "print('Amount of Non-Zero occurrences: ', X.nnz)\n",
    "\n",
    "# Percentage of non-zero values\n",
    "density = (100.0 * X.nnz / (X.shape[0] * X.shape[1]))\n",
    "print('Density: {}'.format((density)))"
   ]
  },
  {
   "cell_type": "code",
   "execution_count": 33,
   "metadata": {},
   "outputs": [
    {
     "name": "stdout",
     "output_type": "stream",
     "text": [
      "Number transactions X_train dataset:  (15728, 9443)\n",
      "Number transactions y_train dataset:  (15728,)\n",
      "Number transactions X_test dataset:  (6741, 9443)\n",
      "Number transactions y_test dataset:  (6741,)\n"
     ]
    }
   ],
   "source": [
    "\n",
    "from imblearn.over_sampling import SMOTE\n",
    "from sklearn.model_selection import train_test_split\n",
    "\n",
    "X_train, X_test, y_train, y_test = train_test_split(X, y, test_size=0.3, random_state=101)\n",
    "print(\"Number transactions X_train dataset: \", X_train.shape)\n",
    "print(\"Number transactions y_train dataset: \", y_train.shape)\n",
    "print(\"Number transactions X_test dataset: \", X_test.shape)\n",
    "print(\"Number transactions y_test dataset: \", y_test.shape)"
   ]
  },
  {
   "cell_type": "code",
   "execution_count": 34,
   "metadata": {},
   "outputs": [
    {
     "name": "stdout",
     "output_type": "stream",
     "text": [
      "Before OverSampling, counts of label '1': 465\n",
      "Before OverSampling, counts of label '2': 286\n",
      "Before OverSampling, counts of label '3': 618\n",
      "Before OverSampling, counts of label '4': 3234\n",
      "Before OverSampling, counts of label '5': 11125 \n",
      "\n",
      "After OverSampling, the shape of train_X: (55625, 9443)\n",
      "After OverSampling, the shape of train_y: (55625,) \n",
      "\n",
      "After OverSampling, counts of label '1': 11125\n",
      "After OverSampling, counts of label '2': 11125\n",
      "After OverSampling, counts of label '3': 11125\n",
      "After OverSampling, counts of label '4': 11125\n",
      "After OverSampling, counts of label '5': 11125\n"
     ]
    }
   ],
   "source": [
    "\n",
    "print(\"Before OverSampling, counts of label '1': {}\".format(sum(y_train==1)))\n",
    "print(\"Before OverSampling, counts of label '2': {}\".format(sum(y_train==2)))\n",
    "print(\"Before OverSampling, counts of label '3': {}\".format(sum(y_train==3)))\n",
    "print(\"Before OverSampling, counts of label '4': {}\".format(sum(y_train==4)))\n",
    "print(\"Before OverSampling, counts of label '5': {} \\n\".format(sum(y_train==5)))\n",
    "\n",
    "sm = SMOTE(random_state=2)\n",
    "X_train_res, y_train_res = sm.fit_sample(X_train, y_train.ravel())\n",
    "\n",
    "print('After OverSampling, the shape of train_X: {}'.format(X_train_res.shape))\n",
    "print('After OverSampling, the shape of train_y: {} \\n'.format(y_train_res.shape))\n",
    "\n",
    "print(\"After OverSampling, counts of label '1': {}\".format(sum(y_train_res==1)))\n",
    "print(\"After OverSampling, counts of label '2': {}\".format(sum(y_train_res==2)))\n",
    "print(\"After OverSampling, counts of label '3': {}\".format(sum(y_train_res==3)))\n",
    "print(\"After OverSampling, counts of label '4': {}\".format(sum(y_train_res==4)))\n",
    "print(\"After OverSampling, counts of label '5': {}\".format(sum(y_train_res==5)))"
   ]
  },
  {
   "cell_type": "code",
   "execution_count": 35,
   "metadata": {},
   "outputs": [
    {
     "data": {
      "text/plain": [
       "MultinomialNB(alpha=1.0, class_prior=None, fit_prior=True)"
      ]
     },
     "execution_count": 35,
     "metadata": {},
     "output_type": "execute_result"
    }
   ],
   "source": [
    "from sklearn.naive_bayes import MultinomialNB\n",
    "\n",
    "nb = MultinomialNB()\n",
    "nb.fit(X_train, y_train)"
   ]
  },
  {
   "cell_type": "code",
   "execution_count": 36,
   "metadata": {},
   "outputs": [],
   "source": [
    "preds = nb.predict(X_test)"
   ]
  },
  {
   "cell_type": "code",
   "execution_count": 37,
   "metadata": {},
   "outputs": [
    {
     "name": "stdout",
     "output_type": "stream",
     "text": [
      "              precision    recall  f1-score   support\n",
      "\n",
      "           1       0.53      0.55      0.54       192\n",
      "           2       0.30      0.02      0.04       132\n",
      "           3       0.36      0.06      0.10       259\n",
      "           4       0.55      0.37      0.44      1391\n",
      "           5       0.80      0.93      0.86      4767\n",
      "\n",
      "    accuracy                           0.75      6741\n",
      "   macro avg       0.51      0.39      0.40      6741\n",
      "weighted avg       0.71      0.75      0.72      6741\n",
      "\n",
      "0.7534490431686693\n"
     ]
    }
   ],
   "source": [
    "print(classification_report(y_test, preds))\n",
    "print(metrics.accuracy_score(y_test, preds))"
   ]
  },
  {
   "cell_type": "code",
   "execution_count": null,
   "metadata": {},
   "outputs": [],
   "source": []
  },
  {
   "cell_type": "code",
   "execution_count": null,
   "metadata": {},
   "outputs": [],
   "source": []
  },
  {
   "cell_type": "markdown",
   "metadata": {},
   "source": [
    "# Recurrent Neural Network model"
   ]
  },
  {
   "cell_type": "code",
   "execution_count": 8,
   "metadata": {},
   "outputs": [],
   "source": [
    "from keras.preprocessing.sequence import pad_sequences\n",
    "from keras.preprocessing.text import Tokenizer\n",
    "from keras.models import Sequential\n",
    "from keras.layers import Dense, Embedding, GRU, Dropout, LSTM\n",
    "from keras.callbacks import EarlyStopping\n",
    "from keras.optimizers import Adam"
   ]
  },
  {
   "cell_type": "code",
   "execution_count": 9,
   "metadata": {},
   "outputs": [],
   "source": [
    "t = Tokenizer()"
   ]
  },
  {
   "cell_type": "code",
   "execution_count": 10,
   "metadata": {},
   "outputs": [],
   "source": [
    "t.fit_on_texts(data[\"reviews\"])"
   ]
  },
  {
   "cell_type": "code",
   "execution_count": 11,
   "metadata": {},
   "outputs": [],
   "source": [
    "#To minimize the characters in text\n",
    "max_length = max([len(s.split()) for s in data[\"reviews\"] ])\n",
    "max_legth=max_length"
   ]
  },
  {
   "cell_type": "code",
   "execution_count": 12,
   "metadata": {},
   "outputs": [],
   "source": [
    "vocab_size = len(t.word_index)+1"
   ]
  },
  {
   "cell_type": "code",
   "execution_count": 13,
   "metadata": {},
   "outputs": [],
   "source": [
    "from sklearn.model_selection import train_test_split\n",
    "X_train, X_test, y_train, y_test = train_test_split(data[\"reviews\"], data[\"Genuine or non Genuine\"], test_size=0.25)"
   ]
  },
  {
   "cell_type": "code",
   "execution_count": 14,
   "metadata": {},
   "outputs": [],
   "source": [
    "X_train = t.texts_to_sequences(X_train)\n",
    "X_test = t.texts_to_sequences(X_test)"
   ]
  },
  {
   "cell_type": "code",
   "execution_count": 15,
   "metadata": {},
   "outputs": [],
   "source": [
    "X_train = pad_sequences(X_train, maxlen=max_length, padding = \"post\",truncating = \"post\")\n",
    "X_test = pad_sequences(X_test, maxlen=max_length, padding = \"post\", truncating = \"post\")"
   ]
  },
  {
   "cell_type": "code",
   "execution_count": 16,
   "metadata": {},
   "outputs": [
    {
     "data": {
      "text/plain": [
       "(5618, 5618, 16851, 16851)"
      ]
     },
     "execution_count": 16,
     "metadata": {},
     "output_type": "execute_result"
    }
   ],
   "source": [
    "X_train = X_train[0:16290]\n",
    "y_train = y_train[0:16290]\n",
    "X_test = X_test[0:5430]\n",
    "y_test = y_test[0:5430]\n",
    "len(y_test),len(X_test),len(X_train),len(y_train)"
   ]
  },
  {
   "cell_type": "code",
   "execution_count": 17,
   "metadata": {},
   "outputs": [],
   "source": [
    "from keras.utils import np_utils #converting to categorical\n",
    "y_train = np_utils.to_categorical(y_train, num_classes=3)\n",
    "y_test = np_utils.to_categorical(y_test, num_classes=3)"
   ]
  },
  {
   "cell_type": "code",
   "execution_count": 18,
   "metadata": {},
   "outputs": [
    {
     "name": "stderr",
     "output_type": "stream",
     "text": [
      "C:\\Users\\palli\\Anaconda3\\lib\\site-packages\\tensorflow_core\\python\\framework\\indexed_slices.py:433: UserWarning: Converting sparse IndexedSlices to a dense Tensor of unknown shape. This may consume a large amount of memory.\n",
      "  \"Converting sparse IndexedSlices to a dense Tensor of unknown shape. \"\n"
     ]
    },
    {
     "name": "stdout",
     "output_type": "stream",
     "text": [
      "Epoch 1/1\n",
      "16851/16851 [==============================] - 5237s 311ms/step - loss: 0.0107 - accuracy: 0.9978\n"
     ]
    },
    {
     "data": {
      "text/plain": [
       "<keras.callbacks.callbacks.History at 0x265b8f0abe0>"
      ]
     },
     "execution_count": 18,
     "metadata": {},
     "output_type": "execute_result"
    }
   ],
   "source": [
    "embedding_dim = 200\n",
    "model = Sequential()\n",
    "model.add(Embedding(vocab_size, embedding_dim, input_length=max_length))\n",
    "model.add(LSTM(units = 32))\n",
    "model.add(Dense(3,activation=\"softmax\")) \n",
    "#since converted to categorical we will have three output nodes. softmax assigns a probability distribution\n",
    "    model.compile(loss=\"binary_crossentropy\", optimizer=\"adam\",metrics=[\"accuracy\"])\n",
    "model.fit(X_train, y_train, batch_size=6, epochs=1)"
   ]
  },
  {
   "cell_type": "code",
   "execution_count": 19,
   "metadata": {},
   "outputs": [
    {
     "name": "stdout",
     "output_type": "stream",
     "text": [
      "5618/5618 [==============================] - 311s 55ms/step\n"
     ]
    },
    {
     "data": {
      "text/plain": [
       "[0.008067486623445332, 0.9989320039749146]"
      ]
     },
     "execution_count": 19,
     "metadata": {},
     "output_type": "execute_result"
    }
   ],
   "source": [
    "model.evaluate(x=X_test, y=y_test, batch_size=6)"
   ]
  },
  {
   "cell_type": "code",
   "execution_count": null,
   "metadata": {},
   "outputs": [],
   "source": []
  }
 ],
 "metadata": {
  "kernelspec": {
   "display_name": "Python 3",
   "language": "python",
   "name": "python3"
  }
 },
 "nbformat": 4,
 "nbformat_minor": 2
}
